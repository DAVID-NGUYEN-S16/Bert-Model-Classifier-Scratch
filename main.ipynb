{
 "cells": [
  {
   "cell_type": "code",
   "execution_count": 4,
   "metadata": {},
   "outputs": [],
   "source": [
    "import torch.nn as nn\n",
    "import torch"
   ]
  },
  {
   "cell_type": "code",
   "execution_count": 5,
   "metadata": {},
   "outputs": [],
   "source": [
    "n, d, m = 3, 5, 7\n",
    "embedding = nn.Embedding(n, d, max_norm=True)"
   ]
  },
  {
   "cell_type": "code",
   "execution_count": 29,
   "metadata": {},
   "outputs": [
    {
     "data": {
      "text/plain": [
       "tensor([[[ 0.1139,  2.2195],\n",
       "         [-0.1970, -0.2280],\n",
       "         [-0.2013,  0.6679],\n",
       "         [ 0.3171, -0.6718]],\n",
       "\n",
       "        [[-0.2013,  0.6679],\n",
       "         [ 1.4409, -0.2387],\n",
       "         [-0.1970, -0.2280],\n",
       "         [ 0.4108, -0.3938]]], grad_fn=<EmbeddingBackward0>)"
      ]
     },
     "execution_count": 29,
     "metadata": {},
     "output_type": "execute_result"
    }
   ],
   "source": [
    "# an Embedding module containing 10 tensors of size 3\n",
    "embedding = nn.Embedding(13, 2)\n",
    "# a batch of 2 samples of 4 indices each\n",
    "input = torch.LongTensor([[1,2,4,5],[4,3,2,9]])\n",
    "# xdoctest: +IGNORE_WANT(\"non-deterministic\")\n",
    "sample_embedding = embedding(input)\n",
    "sample_embedding"
   ]
  },
  {
   "cell_type": "code",
   "execution_count": 30,
   "metadata": {},
   "outputs": [
    {
     "data": {
      "text/plain": [
       "tensor([[ 0.1139,  2.2195],\n",
       "        [-0.1970, -0.2280],\n",
       "        [-0.2013,  0.6679],\n",
       "        [ 0.3171, -0.6718]], grad_fn=<SelectBackward0>)"
      ]
     },
     "execution_count": 30,
     "metadata": {},
     "output_type": "execute_result"
    }
   ],
   "source": [
    "sample_embedding[0]"
   ]
  },
  {
   "cell_type": "code",
   "execution_count": 25,
   "metadata": {},
   "outputs": [],
   "source": [
    "import matplotlib.pyplot as plt"
   ]
  },
  {
   "cell_type": "code",
   "execution_count": 26,
   "metadata": {},
   "outputs": [
    {
     "name": "stdout",
     "output_type": "stream",
     "text": [
      "0.01961974985897541 -0.17922884225845337\n",
      "-0.024420173838734627 0.7123748660087585\n",
      "0.5009524822235107 1.5144315958023071\n",
      "-0.40828296542167664 -0.9076639413833618\n",
      "0.5009524822235107 1.5144315958023071\n",
      "-1.3485145568847656 -0.5180916786193848\n",
      "-0.024420173838734627 0.7123748660087585\n",
      "0.4019373655319214 0.20307689905166626\n"
     ]
    },
    {
     "data": {
      "image/png": "[encoded data removed]",
      "text/plain": [
       "<Figure size 640x480 with 1 Axes>"
      ]
     },
     "metadata": {},
     "output_type": "display_data"
    }
   ],
   "source": [
    "x = []\n",
    "y = []\n",
    "for sample in sample_embedding:\n",
    "    for i, j in sample:\n",
    "        print(i.item(), j.item())\n",
    "        plt.scatter(i.item(), j.item())"
   ]
  },
  {
   "cell_type": "code",
   "execution_count": 41,
   "metadata": {},
   "outputs": [
    {
     "name": "stdout",
     "output_type": "stream",
     "text": [
      "torch.Size([3, 3])\n"
     ]
    },
    {
     "data": {
      "text/plain": [
       "tensor([[ True, False,  True],\n",
       "        [False,  True, False],\n",
       "        [ True,  True, False]])"
      ]
     },
     "execution_count": 41,
     "metadata": {},
     "output_type": "execute_result"
    }
   ],
   "source": [
    "import torch\n",
    "\n",
    "# Sample attention mask (a 2D tensor)\n",
    "att_mask = torch.tensor([[1, 0, 1],\n",
    "                        [0, 1, 0],\n",
    "                        [1, 1, 0]])\n",
    "\n",
    "# Step 1: Create a binary mask\n",
    "binary_mask = att_mask > 0\n",
    "print(binary_mask.size())\n",
    "binary_mask"
   ]
  },
  {
   "cell_type": "code",
   "execution_count": 42,
   "metadata": {},
   "outputs": [
    {
     "name": "stdout",
     "output_type": "stream",
     "text": [
      "torch.Size([3, 1, 3])\n"
     ]
    },
    {
     "data": {
      "text/plain": [
       "tensor([[[ True, False,  True]],\n",
       "\n",
       "        [[False,  True, False]],\n",
       "\n",
       "        [[ True,  True, False]]])"
      ]
     },
     "execution_count": 42,
     "metadata": {},
     "output_type": "execute_result"
    }
   ],
   "source": [
    "# Step 2: Add a dimension along the first axis\n",
    "binary_mask = binary_mask.unsqueeze(1)\n",
    "print(binary_mask.size())\n",
    "\n",
    "binary_mask"
   ]
  },
  {
   "cell_type": "code",
   "execution_count": 43,
   "metadata": {},
   "outputs": [
    {
     "data": {
      "text/plain": [
       "torch.Size([3, 3])"
      ]
     },
     "execution_count": 43,
     "metadata": {},
     "output_type": "execute_result"
    }
   ],
   "source": [
    "att_mask.size()"
   ]
  },
  {
   "cell_type": "code",
   "execution_count": 44,
   "metadata": {},
   "outputs": [
    {
     "name": "stdout",
     "output_type": "stream",
     "text": [
      "torch.Size([3, 3, 3])\n"
     ]
    },
    {
     "data": {
      "text/plain": [
       "tensor([[[ True, False,  True],\n",
       "         [ True, False,  True],\n",
       "         [ True, False,  True]],\n",
       "\n",
       "        [[False,  True, False],\n",
       "         [False,  True, False],\n",
       "         [False,  True, False]],\n",
       "\n",
       "        [[ True,  True, False],\n",
       "         [ True,  True, False],\n",
       "         [ True,  True, False]]])"
      ]
     },
     "execution_count": 44,
     "metadata": {},
     "output_type": "execute_result"
    }
   ],
   "source": [
    "# Step 3: Repeat the binary mask along the second axis\n",
    "binary_mask = binary_mask.repeat(1, att_mask.size(1), 1)\n",
    "print(binary_mask.size())\n",
    "\n",
    "binary_mask"
   ]
  },
  {
   "cell_type": "code",
   "execution_count": 45,
   "metadata": {},
   "outputs": [
    {
     "name": "stdout",
     "output_type": "stream",
     "text": [
      "tensor([[[[ True, False,  True],\n",
      "          [ True, False,  True],\n",
      "          [ True, False,  True]]],\n",
      "\n",
      "\n",
      "        [[[False,  True, False],\n",
      "          [False,  True, False],\n",
      "          [False,  True, False]]],\n",
      "\n",
      "\n",
      "        [[[ True,  True, False],\n",
      "          [ True,  True, False],\n",
      "          [ True,  True, False]]]])\n"
     ]
    }
   ],
   "source": [
    "# Step 4: Add another dimension along the first axis\n",
    "binary_mask = binary_mask.unsqueeze(1)\n",
    "\n",
    "# Print the resulting binary mask\n",
    "print(binary_mask)"
   ]
  },
  {
   "cell_type": "code",
   "execution_count": 56,
   "metadata": {},
   "outputs": [
    {
     "data": {
      "text/plain": [
       "torch.Size([3, 1, 3, 3])"
      ]
     },
     "execution_count": 56,
     "metadata": {},
     "output_type": "execute_result"
    }
   ],
   "source": [
    "binary_mask.shape"
   ]
  },
  {
   "cell_type": "code",
   "execution_count": 55,
   "metadata": {},
   "outputs": [
    {
     "name": "stdout",
     "output_type": "stream",
     "text": [
      "tensor([[0.6590, 0.2424, 0.0986],\n",
      "        [0.2424, 0.6590, 0.0986]])\n"
     ]
    }
   ],
   "source": [
    "import torch\n",
    "import torch.nn.functional as F\n",
    "\n",
    "# Create a tensor with logits for two items in a batch and three classes\n",
    "logits = torch.tensor([[2.0, 1.0, 0.1], [1.0, 2.0, 0.1]])\n",
    "\n",
    "# Apply softmax along the last dimension (dim=-1)\n",
    "weights = F.softmax(logits, dim=-1)\n",
    "\n",
    "# Print the resulting softmax probabilities\n",
    "print(weights)\n"
   ]
  },
  {
   "cell_type": "code",
   "execution_count": 83,
   "metadata": {},
   "outputs": [
    {
     "name": "stdout",
     "output_type": "stream",
     "text": [
      "torch.Size([2, 3, 3])\n",
      "Original tensor (k):\n",
      "torch.Size([2, 3, 3])\n",
      "tensor([[[ 1,  2,  3],\n",
      "         [ 4,  5,  6],\n",
      "         [ 7,  8,  9]],\n",
      "\n",
      "        [[10, 11, 12],\n",
      "         [13, 14, 15],\n",
      "         [16, 17, 18]]])\n",
      "Transposed tensor (k_transposed):\n",
      "tensor([[[ 1,  4,  7],\n",
      "         [ 2,  5,  8],\n",
      "         [ 3,  6,  9]],\n",
      "\n",
      "        [[10, 13, 16],\n",
      "         [11, 14, 17],\n",
      "         [12, 15, 18]]])\n"
     ]
    }
   ],
   "source": [
    "import torch\n",
    "\n",
    "# Create a sample tensor \"k\" with shape (batch_size, key_dim, num_keys)\n",
    "import torch\n",
    "\n",
    "# Create a sample tensor \"k\" with shape (batch_size, key_dim, num_keys)\n",
    "k = torch.tensor([[[1, 2, 3], [4, 5, 6], [7, 8, 9]],\n",
    "                 [[10, 11, 12], [13, 14, 15], [16, 17, 18]]])\n",
    "print(k.shape)\n",
    "\n",
    "# Transpose the tensor by swapping the |last two dimensions\n",
    "k_transposed = k.transpose(1, 2)\n",
    "\n",
    "# Print the original and transposed tensors\n",
    "print(\"Original tensor (k):\")\n",
    "print(k.shape)\n",
    "\n",
    "print(k)\n",
    "\n",
    "print(\"Transposed tensor (k_transposed):\")\n",
    "print(k_transposed)\n"
   ]
  },
  {
   "cell_type": "code",
   "execution_count": null,
   "metadata": {},
   "outputs": [],
   "source": []
  },
  {
   "cell_type": "code",
   "execution_count": null,
   "metadata": {},
   "outputs": [],
   "source": []
  }
 ],
 "metadata": {
  "kernelspec": {
   "display_name": "Python 3",
   "language": "python",
   "name": "python3"
  },
  "language_info": {
   "codemirror_mode": {
    "name": "ipython",
    "version": 3
   },
   "file_extension": ".py",
   "mimetype": "text/x-python",
   "name": "python",
   "nbconvert_exporter": "python",
   "pygments_lexer": "ipython3",
   "version": "3.10.4"
  }
 },
 "nbformat": 4,
 "nbformat_minor": 2
}
